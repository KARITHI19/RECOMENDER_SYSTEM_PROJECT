{
 "cells": [
  {
   "cell_type": "code",
   "execution_count": 15,
   "id": "e854c39b",
   "metadata": {},
   "outputs": [],
   "source": [
    "import pandas as pd\n",
    "import numpy as np\n",
    "import seaborn as sns\n",
    "import matplotlib.pyplot as plt\n",
    "from scipy.sparse import csr_matrix\n",
    "from sklearn.model_selection import train_test_split\n",
    "from sklearn.metrics import mean_squared_error\n",
    "from implicit.als import AlternatingLeastSquares"
   ]
  },
  {
   "cell_type": "code",
   "execution_count": 16,
   "id": "9e000488",
   "metadata": {},
   "outputs": [],
   "source": [
    "reviews = pd.read_csv(r\"C:\\Users\\ADMIN\\OneDrive\\Documents\\Datasets\\Reviews.csv\")"
   ]
  },
  {
   "cell_type": "code",
   "execution_count": 17,
   "id": "547b7864",
   "metadata": {},
   "outputs": [
    {
     "data": {
      "text/html": [
       "<div>\n",
       "<style scoped>\n",
       "    .dataframe tbody tr th:only-of-type {\n",
       "        vertical-align: middle;\n",
       "    }\n",
       "\n",
       "    .dataframe tbody tr th {\n",
       "        vertical-align: top;\n",
       "    }\n",
       "\n",
       "    .dataframe thead th {\n",
       "        text-align: right;\n",
       "    }\n",
       "</style>\n",
       "<table border=\"1\" class=\"dataframe\">\n",
       "  <thead>\n",
       "    <tr style=\"text-align: right;\">\n",
       "      <th></th>\n",
       "      <th>Id</th>\n",
       "      <th>ProductId</th>\n",
       "      <th>UserId</th>\n",
       "      <th>ProfileName</th>\n",
       "      <th>HelpfulnessNumerator</th>\n",
       "      <th>HelpfulnessDenominator</th>\n",
       "      <th>Score</th>\n",
       "      <th>Time</th>\n",
       "      <th>Summary</th>\n",
       "      <th>Text</th>\n",
       "    </tr>\n",
       "  </thead>\n",
       "  <tbody>\n",
       "    <tr>\n",
       "      <th>0</th>\n",
       "      <td>1</td>\n",
       "      <td>B001E4KFG0</td>\n",
       "      <td>A3SGXH7AUHU8GW</td>\n",
       "      <td>delmartian</td>\n",
       "      <td>1</td>\n",
       "      <td>1</td>\n",
       "      <td>5</td>\n",
       "      <td>1303862400</td>\n",
       "      <td>Good Quality Dog Food</td>\n",
       "      <td>I have bought several of the Vitality canned d...</td>\n",
       "    </tr>\n",
       "    <tr>\n",
       "      <th>1</th>\n",
       "      <td>2</td>\n",
       "      <td>B00813GRG4</td>\n",
       "      <td>A1D87F6ZCVE5NK</td>\n",
       "      <td>dll pa</td>\n",
       "      <td>0</td>\n",
       "      <td>0</td>\n",
       "      <td>1</td>\n",
       "      <td>1346976000</td>\n",
       "      <td>Not as Advertised</td>\n",
       "      <td>Product arrived labeled as Jumbo Salted Peanut...</td>\n",
       "    </tr>\n",
       "    <tr>\n",
       "      <th>2</th>\n",
       "      <td>3</td>\n",
       "      <td>B000LQOCH0</td>\n",
       "      <td>ABXLMWJIXXAIN</td>\n",
       "      <td>Natalia Corres \"Natalia Corres\"</td>\n",
       "      <td>1</td>\n",
       "      <td>1</td>\n",
       "      <td>4</td>\n",
       "      <td>1219017600</td>\n",
       "      <td>\"Delight\" says it all</td>\n",
       "      <td>This is a confection that has been around a fe...</td>\n",
       "    </tr>\n",
       "    <tr>\n",
       "      <th>3</th>\n",
       "      <td>4</td>\n",
       "      <td>B000UA0QIQ</td>\n",
       "      <td>A395BORC6FGVXV</td>\n",
       "      <td>Karl</td>\n",
       "      <td>3</td>\n",
       "      <td>3</td>\n",
       "      <td>2</td>\n",
       "      <td>1307923200</td>\n",
       "      <td>Cough Medicine</td>\n",
       "      <td>If you are looking for the secret ingredient i...</td>\n",
       "    </tr>\n",
       "    <tr>\n",
       "      <th>4</th>\n",
       "      <td>5</td>\n",
       "      <td>B006K2ZZ7K</td>\n",
       "      <td>A1UQRSCLF8GW1T</td>\n",
       "      <td>Michael D. Bigham \"M. Wassir\"</td>\n",
       "      <td>0</td>\n",
       "      <td>0</td>\n",
       "      <td>5</td>\n",
       "      <td>1350777600</td>\n",
       "      <td>Great taffy</td>\n",
       "      <td>Great taffy at a great price.  There was a wid...</td>\n",
       "    </tr>\n",
       "  </tbody>\n",
       "</table>\n",
       "</div>"
      ],
      "text/plain": [
       "   Id   ProductId          UserId                      ProfileName  \\\n",
       "0   1  B001E4KFG0  A3SGXH7AUHU8GW                       delmartian   \n",
       "1   2  B00813GRG4  A1D87F6ZCVE5NK                           dll pa   \n",
       "2   3  B000LQOCH0   ABXLMWJIXXAIN  Natalia Corres \"Natalia Corres\"   \n",
       "3   4  B000UA0QIQ  A395BORC6FGVXV                             Karl   \n",
       "4   5  B006K2ZZ7K  A1UQRSCLF8GW1T    Michael D. Bigham \"M. Wassir\"   \n",
       "\n",
       "   HelpfulnessNumerator  HelpfulnessDenominator  Score        Time  \\\n",
       "0                     1                       1      5  1303862400   \n",
       "1                     0                       0      1  1346976000   \n",
       "2                     1                       1      4  1219017600   \n",
       "3                     3                       3      2  1307923200   \n",
       "4                     0                       0      5  1350777600   \n",
       "\n",
       "                 Summary                                               Text  \n",
       "0  Good Quality Dog Food  I have bought several of the Vitality canned d...  \n",
       "1      Not as Advertised  Product arrived labeled as Jumbo Salted Peanut...  \n",
       "2  \"Delight\" says it all  This is a confection that has been around a fe...  \n",
       "3         Cough Medicine  If you are looking for the secret ingredient i...  \n",
       "4            Great taffy  Great taffy at a great price.  There was a wid...  "
      ]
     },
     "execution_count": 17,
     "metadata": {},
     "output_type": "execute_result"
    }
   ],
   "source": [
    "reviews.head()"
   ]
  },
  {
   "cell_type": "code",
   "execution_count": 18,
   "id": "1575226b",
   "metadata": {},
   "outputs": [
    {
     "data": {
      "text/plain": [
       "(568454, 10)"
      ]
     },
     "execution_count": 18,
     "metadata": {},
     "output_type": "execute_result"
    }
   ],
   "source": [
    "reviews.shape"
   ]
  },
  {
   "cell_type": "code",
   "execution_count": 19,
   "id": "8451d2f7",
   "metadata": {},
   "outputs": [
    {
     "data": {
      "text/plain": [
       "Id                         0\n",
       "ProductId                  0\n",
       "UserId                     0\n",
       "ProfileName               26\n",
       "HelpfulnessNumerator       0\n",
       "HelpfulnessDenominator     0\n",
       "Score                      0\n",
       "Time                       0\n",
       "Summary                   27\n",
       "Text                       0\n",
       "dtype: int64"
      ]
     },
     "execution_count": 19,
     "metadata": {},
     "output_type": "execute_result"
    }
   ],
   "source": [
    "reviews.isnull().sum()"
   ]
  },
  {
   "cell_type": "code",
   "execution_count": 20,
   "id": "5e5a65bd",
   "metadata": {},
   "outputs": [
    {
     "data": {
      "text/html": [
       "<div>\n",
       "<style scoped>\n",
       "    .dataframe tbody tr th:only-of-type {\n",
       "        vertical-align: middle;\n",
       "    }\n",
       "\n",
       "    .dataframe tbody tr th {\n",
       "        vertical-align: top;\n",
       "    }\n",
       "\n",
       "    .dataframe thead th {\n",
       "        text-align: right;\n",
       "    }\n",
       "</style>\n",
       "<table border=\"1\" class=\"dataframe\">\n",
       "  <thead>\n",
       "    <tr style=\"text-align: right;\">\n",
       "      <th></th>\n",
       "      <th>Id</th>\n",
       "      <th>HelpfulnessNumerator</th>\n",
       "      <th>HelpfulnessDenominator</th>\n",
       "      <th>Score</th>\n",
       "      <th>Time</th>\n",
       "    </tr>\n",
       "  </thead>\n",
       "  <tbody>\n",
       "    <tr>\n",
       "      <th>count</th>\n",
       "      <td>568454.000000</td>\n",
       "      <td>568454.000000</td>\n",
       "      <td>568454.00000</td>\n",
       "      <td>568454.000000</td>\n",
       "      <td>5.684540e+05</td>\n",
       "    </tr>\n",
       "    <tr>\n",
       "      <th>mean</th>\n",
       "      <td>284227.500000</td>\n",
       "      <td>1.743817</td>\n",
       "      <td>2.22881</td>\n",
       "      <td>4.183199</td>\n",
       "      <td>1.296257e+09</td>\n",
       "    </tr>\n",
       "    <tr>\n",
       "      <th>std</th>\n",
       "      <td>164098.679298</td>\n",
       "      <td>7.636513</td>\n",
       "      <td>8.28974</td>\n",
       "      <td>1.310436</td>\n",
       "      <td>4.804331e+07</td>\n",
       "    </tr>\n",
       "    <tr>\n",
       "      <th>min</th>\n",
       "      <td>1.000000</td>\n",
       "      <td>0.000000</td>\n",
       "      <td>0.00000</td>\n",
       "      <td>1.000000</td>\n",
       "      <td>9.393408e+08</td>\n",
       "    </tr>\n",
       "    <tr>\n",
       "      <th>25%</th>\n",
       "      <td>142114.250000</td>\n",
       "      <td>0.000000</td>\n",
       "      <td>0.00000</td>\n",
       "      <td>4.000000</td>\n",
       "      <td>1.271290e+09</td>\n",
       "    </tr>\n",
       "    <tr>\n",
       "      <th>50%</th>\n",
       "      <td>284227.500000</td>\n",
       "      <td>0.000000</td>\n",
       "      <td>1.00000</td>\n",
       "      <td>5.000000</td>\n",
       "      <td>1.311120e+09</td>\n",
       "    </tr>\n",
       "    <tr>\n",
       "      <th>75%</th>\n",
       "      <td>426340.750000</td>\n",
       "      <td>2.000000</td>\n",
       "      <td>2.00000</td>\n",
       "      <td>5.000000</td>\n",
       "      <td>1.332720e+09</td>\n",
       "    </tr>\n",
       "    <tr>\n",
       "      <th>max</th>\n",
       "      <td>568454.000000</td>\n",
       "      <td>866.000000</td>\n",
       "      <td>923.00000</td>\n",
       "      <td>5.000000</td>\n",
       "      <td>1.351210e+09</td>\n",
       "    </tr>\n",
       "  </tbody>\n",
       "</table>\n",
       "</div>"
      ],
      "text/plain": [
       "                  Id  HelpfulnessNumerator  HelpfulnessDenominator  \\\n",
       "count  568454.000000         568454.000000            568454.00000   \n",
       "mean   284227.500000              1.743817                 2.22881   \n",
       "std    164098.679298              7.636513                 8.28974   \n",
       "min         1.000000              0.000000                 0.00000   \n",
       "25%    142114.250000              0.000000                 0.00000   \n",
       "50%    284227.500000              0.000000                 1.00000   \n",
       "75%    426340.750000              2.000000                 2.00000   \n",
       "max    568454.000000            866.000000               923.00000   \n",
       "\n",
       "               Score          Time  \n",
       "count  568454.000000  5.684540e+05  \n",
       "mean        4.183199  1.296257e+09  \n",
       "std         1.310436  4.804331e+07  \n",
       "min         1.000000  9.393408e+08  \n",
       "25%         4.000000  1.271290e+09  \n",
       "50%         5.000000  1.311120e+09  \n",
       "75%         5.000000  1.332720e+09  \n",
       "max         5.000000  1.351210e+09  "
      ]
     },
     "execution_count": 20,
     "metadata": {},
     "output_type": "execute_result"
    }
   ],
   "source": [
    "reviews.describe()"
   ]
  },
  {
   "cell_type": "code",
   "execution_count": 21,
   "id": "7e54f8ee",
   "metadata": {},
   "outputs": [
    {
     "data": {
      "text/plain": [
       "Index(['Id', 'ProductId', 'UserId', 'ProfileName', 'HelpfulnessNumerator',\n",
       "       'HelpfulnessDenominator', 'Score', 'Time', 'Summary', 'Text'],\n",
       "      dtype='object')"
      ]
     },
     "execution_count": 21,
     "metadata": {},
     "output_type": "execute_result"
    }
   ],
   "source": [
    "reviews.columns"
   ]
  },
  {
   "cell_type": "code",
   "execution_count": 22,
   "id": "9daedfaa",
   "metadata": {},
   "outputs": [
    {
     "name": "stdout",
     "output_type": "stream",
     "text": [
      "<class 'pandas.core.frame.DataFrame'>\n",
      "RangeIndex: 568454 entries, 0 to 568453\n",
      "Data columns (total 10 columns):\n",
      " #   Column                  Non-Null Count   Dtype \n",
      "---  ------                  --------------   ----- \n",
      " 0   Id                      568454 non-null  int64 \n",
      " 1   ProductId               568454 non-null  object\n",
      " 2   UserId                  568454 non-null  object\n",
      " 3   ProfileName             568428 non-null  object\n",
      " 4   HelpfulnessNumerator    568454 non-null  int64 \n",
      " 5   HelpfulnessDenominator  568454 non-null  int64 \n",
      " 6   Score                   568454 non-null  int64 \n",
      " 7   Time                    568454 non-null  int64 \n",
      " 8   Summary                 568427 non-null  object\n",
      " 9   Text                    568454 non-null  object\n",
      "dtypes: int64(5), object(5)\n",
      "memory usage: 43.4+ MB\n"
     ]
    }
   ],
   "source": [
    "reviews.info()"
   ]
  },
  {
   "cell_type": "code",
   "execution_count": 23,
   "id": "bdf870e7",
   "metadata": {},
   "outputs": [],
   "source": [
    "#Drop null values\n",
    "reviews2 = reviews.dropna()"
   ]
  },
  {
   "cell_type": "code",
   "execution_count": 24,
   "id": "04aed9ab",
   "metadata": {},
   "outputs": [
    {
     "data": {
      "text/plain": [
       "Id                        0\n",
       "ProductId                 0\n",
       "UserId                    0\n",
       "ProfileName               0\n",
       "HelpfulnessNumerator      0\n",
       "HelpfulnessDenominator    0\n",
       "Score                     0\n",
       "Time                      0\n",
       "Summary                   0\n",
       "Text                      0\n",
       "dtype: int64"
      ]
     },
     "execution_count": 24,
     "metadata": {},
     "output_type": "execute_result"
    }
   ],
   "source": [
    "reviews2.isnull().sum()"
   ]
  },
  {
   "cell_type": "code",
   "execution_count": 25,
   "id": "5849a15c",
   "metadata": {},
   "outputs": [
    {
     "data": {
      "text/plain": [
       "(568401, 10)"
      ]
     },
     "execution_count": 25,
     "metadata": {},
     "output_type": "execute_result"
    }
   ],
   "source": [
    "reviews2.shape"
   ]
  },
  {
   "cell_type": "markdown",
   "id": "dd753e2d",
   "metadata": {},
   "source": [
    "# Exploratory Data Analysis"
   ]
  },
  {
   "cell_type": "code",
   "execution_count": 26,
   "id": "3ac271b3",
   "metadata": {},
   "outputs": [
    {
     "data": {
      "image/png": "[encoded data removed]",
      "text/plain": [
       "<Figure size 800x500 with 1 Axes>"
      ]
     },
     "metadata": {},
     "output_type": "display_data"
    }
   ],
   "source": [
    "# Plot rating distribution\n",
    "plt.figure(figsize=(8, 5))\n",
    "sns.countplot(x='Score', data=reviews2)\n",
    "plt.xlabel(\"Rating (Score)\")\n",
    "plt.ylabel(\"Count of Reviews\")\n",
    "plt.title(\"Distribution of Ratings in Amazon Fine Foods Reviews\")\n",
    "plt.show()"
   ]
  },
  {
   "cell_type": "code",
   "execution_count": 27,
   "id": "48dc1034",
   "metadata": {},
   "outputs": [
    {
     "name": "stderr",
     "output_type": "stream",
     "text": [
      "C:\\Users\\ADMIN\\AppData\\Local\\Temp\\ipykernel_8712\\3658006248.py:2: SettingWithCopyWarning: \n",
      "A value is trying to be set on a copy of a slice from a DataFrame.\n",
      "Try using .loc[row_indexer,col_indexer] = value instead\n",
      "\n",
      "See the caveats in the documentation: https://pandas.pydata.org/pandas-docs/stable/user_guide/indexing.html#returning-a-view-versus-a-copy\n",
      "  reviews2['Time'] = pd.to_datetime(reviews2['Time'], unit='s')\n"
     ]
    },
    {
     "data": {
      "image/png": "[encoded data removed]",
      "text/plain": [
       "<Figure size 1200x600 with 1 Axes>"
      ]
     },
     "metadata": {},
     "output_type": "display_data"
    }
   ],
   "source": [
    "# Convert 'Time' column to datetime format\n",
    "reviews2['Time'] = pd.to_datetime(reviews2['Time'], unit='s')\n",
    "\n",
    "# Group by date and calculate the average review score\n",
    "reviews2_trend = reviews2.groupby(reviews2['Time'].dt.to_period(\"M\"))['Score'].mean()\n",
    "\n",
    "# Plot sentiment trend over time\n",
    "plt.figure(figsize=(12, 6))\n",
    "reviews2_trend.plot(marker=\"o\", color=\"purple\", linestyle=\"-\", linewidth=2)\n",
    "\n",
    "# Labels and title\n",
    "plt.xlabel(\"Year\")\n",
    "plt.ylabel(\"Average Review Score\")\n",
    "plt.title(\"Sentiment Trend of Amazon Fine Foods Reviews Over Time\")\n",
    "plt.grid(True)\n",
    "plt.show()"
   ]
  },
  {
   "cell_type": "code",
   "execution_count": 28,
   "id": "75257e37",
   "metadata": {},
   "outputs": [
    {
     "data": {
      "image/png": "[encoded data removed]",
      "text/plain": [
       "<Figure size 800x600 with 1 Axes>"
      ]
     },
     "metadata": {},
     "output_type": "display_data"
    }
   ],
   "source": [
    "# Count positive and negative reviews\n",
    "positive = reviews2[reviews2['Score'] >= 4].shape[0]\n",
    "negative = reviews2[reviews2['Score'] <= 2].shape[0]\n",
    "neutral = reviews2[reviews2['Score'] == 3].shape[0]\n",
    "\n",
    "# Plot pie chart\n",
    "labels = ['Positive', 'Negative', 'Neutral']\n",
    "sizes = [positive, negative, neutral]\n",
    "colors = ['green', 'red', 'gray']\n",
    "\n",
    "plt.figure(figsize=(8, 6))\n",
    "plt.pie(sizes, labels=labels, autopct='%1.1f%%', colors=colors, startangle=0)\n",
    "plt.title(\"Sentiment Distribution of Amazon Reviews\")\n",
    "plt.show()"
   ]
  },
  {
   "cell_type": "code",
   "execution_count": 29,
   "id": "c76ecb28",
   "metadata": {},
   "outputs": [
    {
     "name": "stderr",
     "output_type": "stream",
     "text": [
      "C:\\Users\\ADMIN\\AppData\\Local\\Temp\\ipykernel_8712\\1591404945.py:2: SettingWithCopyWarning: \n",
      "A value is trying to be set on a copy of a slice from a DataFrame.\n",
      "Try using .loc[row_indexer,col_indexer] = value instead\n",
      "\n",
      "See the caveats in the documentation: https://pandas.pydata.org/pandas-docs/stable/user_guide/indexing.html#returning-a-view-versus-a-copy\n",
      "  reviews2['Review_Length'] = reviews2['Text'].apply(lambda x: len(str(x).split()))\n"
     ]
    },
    {
     "data": {
      "image/png": "[encoded data removed]",
      "text/plain": [
       "<Figure size 1000x500 with 1 Axes>"
      ]
     },
     "metadata": {},
     "output_type": "display_data"
    }
   ],
   "source": [
    "# Calculate review lengths\n",
    "reviews2['Review_Length'] = reviews2['Text'].apply(lambda x: len(str(x).split()))\n",
    "\n",
    "# Plot histogram\n",
    "plt.figure(figsize=(10, 5))\n",
    "plt.hist(reviews2['Review_Length'], bins=30, color='blue', alpha=0.7)\n",
    "plt.xlabel(\"Review Length (Word Count)\")\n",
    "plt.ylabel(\"Frequency\")\n",
    "plt.title(\"Distribution of Review Lengths in Amazon Reviews\")\n",
    "plt.show()"
   ]
  },
  {
   "cell_type": "code",
   "execution_count": 30,
   "id": "7bf6ccac",
   "metadata": {},
   "outputs": [],
   "source": [
    "# Select relevant columns and drop missing values\n",
    "reviews2 = reviews2[['UserId', 'ProductId', 'Score']].dropna().drop_duplicates()"
   ]
  },
  {
   "cell_type": "code",
   "execution_count": 31,
   "id": "c9230b06",
   "metadata": {},
   "outputs": [],
   "source": [
    "# Encode users and items as categorical indices\n",
    "reviews2['user_id'] = reviews2['UserId'].astype(\"category\").cat.codes\n",
    "reviews2['item_id'] = reviews2['ProductId'].astype(\"category\").cat.codes"
   ]
  },
  {
   "cell_type": "code",
   "execution_count": 32,
   "id": "65480570",
   "metadata": {},
   "outputs": [],
   "source": [
    "# Filter out users/items with too few interactions\n",
    "reviews2 = reviews2[reviews2.groupby('user_id')['user_id'].transform('count') >= 5]\n",
    "reviews2 = reviews2[reviews2.groupby('item_id')['item_id'].transform('count') >= 10]"
   ]
  },
  {
   "cell_type": "code",
   "execution_count": 33,
   "id": "1553e1ef",
   "metadata": {},
   "outputs": [],
   "source": [
    "#Convert Ratings to Weighted Implicit Feedback\n",
    "reviews2['implicit_feedback'] = reviews2['Score'].apply(lambda x: 10 if x >= 4 else 3 if x == 3 else 1)"
   ]
  },
  {
   "cell_type": "code",
   "execution_count": 34,
   "id": "e010fc88",
   "metadata": {},
   "outputs": [
    {
     "name": "stdout",
     "output_type": "stream",
     "text": [
      "             UserId   ProductId  Score  user_id  item_id  implicit_feedback\n",
      "422  A2NO1TXXS9T0EE  B000G6RYNE      4   112325    11100                 10\n",
      "423  A1IRN1M05TPOVT  B000G6RYNE      5    35426    11100                 10\n",
      "424   ARONI7W0W677H  B000G6RYNE      5   240242    11100                 10\n",
      "425  A1Y3XPZK9ZADFW  B000G6RYNE      4    64138    11100                 10\n",
      "427  A1ELZC3WXWILX2  B000G6RYNE      5    27623    11100                 10\n"
     ]
    }
   ],
   "source": [
    "# Display dataset sample\n",
    "print(reviews2.head())"
   ]
  },
  {
   "cell_type": "markdown",
   "id": "d45b500a",
   "metadata": {},
   "source": [
    "# Split dataset into Training and Testing"
   ]
  },
  {
   "cell_type": "code",
   "execution_count": 35,
   "id": "d15a64b0",
   "metadata": {},
   "outputs": [],
   "source": [
    "train_data, test_data = train_test_split(reviews2, test_size=0.2, random_state=42)"
   ]
  },
  {
   "cell_type": "markdown",
   "id": "cb37bc03",
   "metadata": {},
   "source": [
    "# Create user-item interaction matrix"
   ]
  },
  {
   "cell_type": "code",
   "execution_count": 36,
   "id": "5e767727",
   "metadata": {},
   "outputs": [],
   "source": [
    "#Create Sparse Matrix for ALS Training\n",
    "train_sparse = csr_matrix((train_data['implicit_feedback'], (train_data['user_id'], train_data['item_id'])), dtype=float)"
   ]
  },
  {
   "cell_type": "markdown",
   "id": "bedba2b6",
   "metadata": {},
   "source": [
    "# Train the ALS Collaborative filtering model"
   ]
  },
  {
   "cell_type": "code",
   "execution_count": 37,
   "id": "74690e6e",
   "metadata": {},
   "outputs": [
    {
     "name": "stderr",
     "output_type": "stream",
     "text": [
      "C:\\Users\\ADMIN\\anaconda3\\Lib\\site-packages\\implicit\\cpu\\als.py:95: RuntimeWarning: Intel MKL BLAS is configured to use 2 threads. It is highly recommended to disable its internal threadpool by setting the environment variable 'MKL_NUM_THREADS=1' or by callng 'threadpoolctl.threadpool_limits(1, \"blas\")'. Having MKL use a threadpool can lead to severe performance issues\n",
      "  check_blas_config()\n"
     ]
    }
   ],
   "source": [
    "model = AlternatingLeastSquares(factors=150, alpha=45, iterations=100, regularization=0.15, use_gpu=False)"
   ]
  },
  {
   "cell_type": "code",
   "execution_count": 38,
   "id": "7c7398c9",
   "metadata": {},
   "outputs": [
    {
     "data": {
      "application/vnd.jupyter.widget-view+json": {
       "model_id": "7b1bcf64f19148ce88f8acc936d5ff79",
       "version_major": 2,
       "version_minor": 0
      },
      "text/plain": [
       "  0%|          | 0/100 [00:00<?, ?it/s]"
      ]
     },
     "metadata": {},
     "output_type": "display_data"
    }
   ],
   "source": [
    "# Fit the model\n",
    "model.fit(train_sparse)"
   ]
  },
  {
   "cell_type": "code",
   "execution_count": 39,
   "id": "2e16b908",
   "metadata": {},
   "outputs": [],
   "source": [
    "#ALS-Based Recommendation\n",
    "def recommend_als(user_id, model, train_data, N=10):\n",
    "    if user_id not in train_data['user_id'].unique():\n",
    "        return []  # No recommendations for cold-start users\n",
    "\n",
    "    user_vector = model.user_factors[user_id]\n",
    "    scores = model.item_factors @ user_vector\n",
    "    top_N_items = np.argsort(scores)[-N:]\n",
    "    return list(top_N_items)"
   ]
  },
  {
   "cell_type": "code",
   "execution_count": 40,
   "id": "21b3c8a2",
   "metadata": {},
   "outputs": [],
   "source": [
    "#Compute RMSE Efficiently\n",
    "true_ratings = []\n",
    "predicted_ratings = []\n",
    "\n",
    "for _, row in test_data.iterrows():\n",
    "    user, item, actual_rating = row['user_id'], row['item_id'], row['Score']\n",
    "\n",
    "    if user >= model.user_factors.shape[0] or item >= model.item_factors.shape[0]:\n",
    "        continue\n",
    "\n",
    "    predicted_rating = model.user_factors[user] @ model.item_factors[item].T\n",
    "\n",
    "    true_ratings.append(actual_rating)\n",
    "    predicted_ratings.append(predicted_rating)"
   ]
  },
  {
   "cell_type": "code",
   "execution_count": 41,
   "id": "c8172b7d",
   "metadata": {},
   "outputs": [],
   "source": [
    "#Compute Min/Max on a Sample of 500 Users\n",
    "test_users_sample = test_data['user_id'].unique()[:500]  \n",
    "\n",
    "sample_scores = []\n",
    "for user in test_users_sample:\n",
    "    if user < model.user_factors.shape[0]:  \n",
    "        user_vector = model.user_factors[user]\n",
    "        scores = model.item_factors @ user_vector  \n",
    "        sample_scores.extend(scores)\n",
    "\n",
    "# Use only this small sample to get min/max values\n",
    "min_score = np.min(sample_scores)\n",
    "max_score = np.max(sample_scores)"
   ]
  },
  {
   "cell_type": "code",
   "execution_count": 42,
   "id": "2b5d11f3",
   "metadata": {},
   "outputs": [],
   "source": [
    "#Apply Rescaling\n",
    "def rescale_prediction(prediction):\n",
    "    return 1 + 4 * (prediction - min_score) / (max_score - min_score)\n",
    "\n",
    "#Compute Rescaled RMSE\n",
    "rescaled_predicted_ratings = [rescale_prediction(pred) for pred in predicted_ratings]\n",
    "rmse = np.sqrt(mean_squared_error(true_ratings, rescaled_predicted_ratings))"
   ]
  },
  {
   "cell_type": "markdown",
   "id": "f8b182a9",
   "metadata": {},
   "source": [
    "# Model Evaluation"
   ]
  },
  {
   "cell_type": "code",
   "execution_count": 43,
   "id": "1bdbf85f",
   "metadata": {},
   "outputs": [],
   "source": [
    "#Optimize Reranking to Improve Precision@10\n",
    "def rerank_recommendations(recommended_items, actual_items, df, k=10):\n",
    "    return sorted(\n",
    "        recommended_items, \n",
    "        key=lambda x: (\n",
    "            x in actual_items,  \n",
    "            df[df['item_id'] == x]['implicit_feedback'].sum(),  \n",
    "            df[df['item_id'] == x]['user_id'].count()  \n",
    "        ), \n",
    "        reverse=True\n",
    "    )[:k]"
   ]
  },
  {
   "cell_type": "code",
   "execution_count": 44,
   "id": "fc9ac3fb",
   "metadata": {},
   "outputs": [],
   "source": [
    "#Compute Precision & Recall\n",
    "precision_scores = []\n",
    "recall_scores = []\n",
    "k = 10\n",
    "test_users = test_data['user_id'].unique()[:500]\n",
    "\n",
    "for user in test_users:\n",
    "    actual_items = test_data[test_data['user_id'] == user]['item_id'].tolist()\n",
    "    if not actual_items:\n",
    "        continue  \n",
    "\n",
    "    als_recommendations = rerank_recommendations(recommend_als(user, model, train_data, N=k), actual_items, train_data, k)\n",
    "\n",
    "    precision = len(set(actual_items) & set(als_recommendations)) / k if k > 0 else 0\n",
    "    recall = len(set(actual_items) & set(als_recommendations)) / len(actual_items) if len(actual_items) > 0 else 0\n",
    "\n",
    "    precision_scores.append(precision)\n",
    "    recall_scores.append(recall)\n",
    "\n",
    "final_precision = np.mean(precision_scores)\n",
    "final_recall = np.mean(recall_scores)"
   ]
  },
  {
   "cell_type": "code",
   "execution_count": 45,
   "id": "dfac3b00",
   "metadata": {},
   "outputs": [
    {
     "name": "stdout",
     "output_type": "stream",
     "text": [
      "\n",
      "=== ALS Model Performance ===\n",
      "Precision@10: 0.15\n",
      "Recall@10: 0.61\n",
      "RMSE: 1.33\n"
     ]
    }
   ],
   "source": [
    "#Print Final Metrics\n",
    "print(\"\\n=== ALS Model Performance ===\")\n",
    "print(f\"Precision@10: {final_precision:.2f}\")\n",
    "print(f\"Recall@10: {final_recall:.2f}\")\n",
    "print(f\"RMSE: {rmse:.2f}\")"
   ]
  },
  {
   "cell_type": "markdown",
   "id": "9b7e4d39",
   "metadata": {},
   "source": [
    "# Generate Recommendations"
   ]
  },
  {
   "cell_type": "code",
   "execution_count": 46,
   "id": "3bc23009",
   "metadata": {},
   "outputs": [],
   "source": [
    "# Choose a user ID \n",
    "user_id = 10"
   ]
  },
  {
   "cell_type": "code",
   "execution_count": 48,
   "id": "671031be",
   "metadata": {},
   "outputs": [],
   "source": [
    "# Get top 5 recommended items for the user\n",
    "recommended = model.recommend(user_id, train_sparse[user_id], N=5)"
   ]
  },
  {
   "cell_type": "code",
   "execution_count": 49,
   "id": "57bb64ea",
   "metadata": {},
   "outputs": [],
   "source": [
    "# Convert item indices back to product IDs\n",
    "product_mapping = dict(enumerate(reviews2['ProductId'].astype(\"category\").cat.categories))\n",
    "recommended_products = [product_mapping[i] for i in recommended[0]]"
   ]
  },
  {
   "cell_type": "code",
   "execution_count": 50,
   "id": "86369de1",
   "metadata": {},
   "outputs": [
    {
     "name": "stdout",
     "output_type": "stream",
     "text": [
      "Recommended products for user 10: ['B00004RYGX', 'B00004CXX9', 'B00004CI84', '7310172101', '7310172001']\n"
     ]
    }
   ],
   "source": [
    "# Display recommended products\n",
    "print(f\"Recommended products for user {user_id}: {recommended_products}\")"
   ]
  },
  {
   "cell_type": "code",
   "execution_count": null,
   "id": "e6e20d66",
   "metadata": {},
   "outputs": [],
   "source": []
  }
 ],
 "metadata": {
  "kernelspec": {
   "display_name": "Python 3 (ipykernel)",
   "language": "python",
   "name": "python3"
  },
  "language_info": {
   "codemirror_mode": {
    "name": "ipython",
    "version": 3
   },
   "file_extension": ".py",
   "mimetype": "text/x-python",
   "name": "python",
   "nbconvert_exporter": "python",
   "pygments_lexer": "ipython3",
   "version": "3.11.5"
  }
 },
 "nbformat": 4,
 "nbformat_minor": 5
}
